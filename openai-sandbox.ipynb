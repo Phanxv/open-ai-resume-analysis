{
 "cells": [
  {
   "cell_type": "code",
   "execution_count": 1,
   "metadata": {},
   "outputs": [],
   "source": [
    "import os\n",
    "from openai import AzureOpenAI"
   ]
  },
  {
   "cell_type": "code",
   "execution_count": 2,
   "metadata": {},
   "outputs": [],
   "source": [
    "from PyPDF2 import PdfReader"
   ]
  },
  {
   "cell_type": "code",
   "execution_count": 2,
   "metadata": {},
   "outputs": [],
   "source": [
    "AZURE_OPENAI_PREVIEW_API_VERSION=os.environ.get(\"AZURE_OPENAI_PREVIEW_API_VERSION\")\n",
    "AZURE_OPENAI_API_KEY=os.environ.get(\"AZURE_OPENAI_API_KEY\")\n",
    "AZURE_OPENAI_ENDPOINT=os.environ.get(\"AZURE_OPENAI_ENDPOINT\")\n",
    "AZURE_OPENAI_MODEL=os.environ.get(\"AZURE_OPENAI_MODEL\")"
   ]
  },
  {
   "cell_type": "code",
   "execution_count": 3,
   "metadata": {},
   "outputs": [],
   "source": [
    "client = AzureOpenAI(\n",
    "    api_version= AZURE_OPENAI_PREVIEW_API_VERSION,\n",
    "    api_key=AZURE_OPENAI_API_KEY,\n",
    "    azure_endpoint=AZURE_OPENAI_ENDPOINT\n",
    ")"
   ]
  },
  {
   "cell_type": "code",
   "execution_count": null,
   "metadata": {},
   "outputs": [],
   "source": [
    "reader = PdfReader('./OneDrive_1_10-4-2024/JobThai - 1032276_ฐาณภูมิ์_ธีรสีหรัตน์ - Application.pdf')\n",
    "full_text = \"\"\n",
    "for page in reader.pages:\n",
    "    text = page.extract_text()\n",
    "    full_text += text\n",
    "print(full_text)"
   ]
  },
  {
   "cell_type": "code",
   "execution_count": 13,
   "metadata": {},
   "outputs": [],
   "source": [
    "completion = client.chat.completions.create(\n",
    "    model=AZURE_OPENAI_MODEL,\n",
    "    messages=[\n",
    "        {\n",
    "            \"role\": \"system\",\n",
    "            \"content\": \"\"\"You are HR department assistant you job is to help summarize the data from job applicant\n",
    "            the data you need to extract is the keyword of Job title and Skill only answer with the keyword\n",
    "            \"\"\"\n",
    "        },\n",
    "        {\n",
    "            \"role\": \"user\",\n",
    "            \"content\": full_text,\n",
    "        },\n",
    "    ],\n",
    ")"
   ]
  },
  {
   "cell_type": "code",
   "execution_count": null,
   "metadata": {},
   "outputs": [],
   "source": [
    "print(completion.to_json())"
   ]
  },
  {
   "cell_type": "markdown",
   "metadata": {},
   "source": [
    "### Create search index"
   ]
  },
  {
   "cell_type": "code",
   "execution_count": null,
   "metadata": {},
   "outputs": [],
   "source": [
    "! pip install azure-search-documents==11.6.0b1 --quiet\n",
    "! pip install azure-identity --quiet\n",
    "! pip install python-dotenv --quiet\n",
    "! pip install azure-core"
   ]
  },
  {
   "cell_type": "code",
   "execution_count": 11,
   "metadata": {},
   "outputs": [],
   "source": [
    "from azure.core.credentials import AzureKeyCredential\n",
    "import os\n",
    "from dotenv import load_dotenv\n",
    "\n",
    "load_dotenv()\n",
    "\n",
    "AZURE_SEARCH_API_KEY = os.environ.get(\"AZURE_SEARCH_API_KEY\")\n",
    "AZURE_SEARCH_API_ENDPOINT = os.environ.get(\"AZURE_SEARCH_API_ENDPOINT\")\n",
    "\n",
    "credential = AzureKeyCredential(AZURE_SEARCH_API_KEY)\n",
    "from azure.search.documents.indexes import SearchIndexClient\n",
    "from azure.search.documents import SearchClient\n",
    "from azure.search.documents.indexes.models import (\n",
    "    ComplexField,\n",
    "    SimpleField,\n",
    "    SearchFieldDataType,\n",
    "    SearchableField,\n",
    "    SearchIndex\n",
    ")\n"
   ]
  },
  {
   "cell_type": "code",
   "execution_count": 15,
   "metadata": {},
   "outputs": [],
   "source": [
    "index_client = SearchIndexClient(endpoint=AZURE_SEARCH_API_ENDPOINT, credential=credential)\n",
    "fields = [\n",
    "        SimpleField(name=\"resumeId\", type=SearchFieldDataType.String, key=True),\n",
    "        SimpleField(name=\"Name\", type=SearchFieldDataType.String, sortable=True),\n",
    "        SimpleField(name=\"PID\", type=SearchFieldDataType.String, analyzer_name=\"th.lucene\"),\n",
    "        SearchableField(name=\"Intro\", type=SearchFieldDataType.String, analyzer_name=\"th.lucene\"),\n",
    "        ComplexField(name=\"Work\", collection=True, fields=[\n",
    "            SearchableField(name=\"Title\", type=SearchFieldDataType.String, analyzer_name=\"th.lucene\"),\n",
    "            SimpleField(name=\"Company\", type=SearchFieldDataType.String),\n",
    "            SimpleField(name=\"Date\", collection=True, type=SearchFieldDataType.String),\n",
    "            SearchableField(name=\"Duration\", type=SearchFieldDataType.String, analyzer_name=\"th.lucene\"),\n",
    "            SearchableField(name=\"Description\", type=SearchFieldDataType.String, analyzer_name=\"th.lucene\")\n",
    "        ]),\n",
    "        SearchableField(name=\"Education\", collection=True,fields=[\n",
    "            SearchableField(name=\"Degree\", type=SearchFieldDataType.String, analyzer_name=\"th.lucene\"),\n",
    "            SimpleField(name=\"School\", type=SearchFieldDataType.String),\n",
    "            SimpleField(name=\"Date\", collection=True, type=SearchFieldDataType.String),\n",
    "            SearchableField(name=\"Duration\", type=SearchFieldDataType.String, analyzer_name=\"th.lucene\"),\n",
    "        ]),\n",
    "        SearchableField(name=\"Skill\", collection=True, type=SearchFieldDataType.String, analyzer_name=\"th.lucene\"),\n",
    "        SearchableField(name=\"Certification\", collection=True, type=SearchFieldDataType.String, analyzer_name=\"th.lucene\"),\n",
    "        SearchableField(name=\"Award\", collection=True, type=SearchFieldDataType.String, analyzer_name=\"th.lucene\"),\n",
    "        SearchableField(name=\"Language\", collection=True, type=SearchFieldDataType.String, filterable=True),\n",
    "    ]\n",
    "scoring_profiles = []\n",
    "suggester = [{'name': 'sg', 'source_fields': ['Work/Description', 'Work/Duration', 'Skill', 'Certification', 'Language']}]\n"
   ]
  },
  {
   "cell_type": "code",
   "execution_count": null,
   "metadata": {},
   "outputs": [],
   "source": [
    "index = SearchIndex(name=\"resume_index\", fields=fields, suggesters=suggester, scoring_profiles=scoring_profiles)\n",
    "result = index_client.create_or_update_index(index)\n",
    "print(f' {result.name} created')"
   ]
  },
  {
   "cell_type": "code",
   "execution_count": 24,
   "metadata": {},
   "outputs": [],
   "source": [
    "import json\n",
    "import time"
   ]
  },
  {
   "cell_type": "code",
   "execution_count": 26,
   "metadata": {},
   "outputs": [],
   "source": [
    "result_json_string = '''{  \n",
    "    \"name\": \"Phankawee Chulakasian\",  \n",
    "    \"pid\": \"063-421-6162 | ch.phankawee_st@tni.ac.th | github.com/Phanxv | linkedin.com/in/phankawee-chulakasian-0870a32b5/\",  \n",
    "    \"intro\": \"I'm currently a fourth-year college student at Thai-Nichi Institute of Technology, pursuing a degree in Computer Engineering. With a keen interest in Digital logic design, Embedded system and Full-Stack website development and I’m a fast learner and highly adaptable individual, ready to face new challenges.\",  \n",
    "    \"work\": [  \n",
    "        {  \n",
    "            \"title\": \"Full-Stack Developer (Co-operative Education)\",  \n",
    "            \"company\": \"Metro Systems Corporation Plc.\",  \n",
    "            \"date\": \"1 JUL 2024 - 31 OCT 2024\",  \n",
    "            \"duration\": \"4 months\",  \n",
    "            \"description\": \"Worked on RPA projects to automate business processes, while also developing and deploying full-stack applications mainly using React and Python on Microsoft Azure cloud service.\"  \n",
    "        },  \n",
    "        {  \n",
    "            \"title\": \"Teaching Assistant\",  \n",
    "            \"company\": \"Thai-Nichi Institute of Technology\",  \n",
    "            \"date\": [  \n",
    "                \"CPE-212 Digital Logic Design Laboratory: JUL 2023 - AUG 2023\",  \n",
    "                \"CPE-112 Computer Programming Laboratory: JUN 2022 - OCT 2022\",  \n",
    "                \"ENG-131 Calculus 1: JUL 2022 - SEP 2022\"  \n",
    "            ],  \n",
    "            \"duration\": \"Total 10 months\",  \n",
    "            \"description\": \"Assisted in various laboratory courses.\"  \n",
    "        },  \n",
    "        {  \n",
    "            \"title\": \"Laboratory Staff\",  \n",
    "            \"company\": \"Computer Engineering Robotic and Technology: CERT at Thai-Nichi Institute of Technology\",  \n",
    "            \"date\": [  \n",
    "                \"Laboratory Vice President: 2022 - 2023\",  \n",
    "                \"Laboratory Student: 2021 - 2022\"  \n",
    "            ],  \n",
    "            \"duration\": \"Total 2 years\",  \n",
    "            \"description\": \"Contributed to laboratory activities and management.\"  \n",
    "        }  \n",
    "    ],  \n",
    "    \"education\": {  \n",
    "        \"degree\": \"Computer Engineering Major\",  \n",
    "        \"school\": \"Thai-Nichi Institute of Technology\",  \n",
    "        \"dates\": \"JUN 2021 - PRESENT\",  \n",
    "        \"expected_graduation\": \"2024\",  \n",
    "        \"gpax\": \"3.95\"  \n",
    "    },  \n",
    "    \"skills\": [  \n",
    "        \"Quartus II for FPGA digital logic design\",  \n",
    "        \"C/C++ and Arduino for microcontroller and IOT programming on ESP8266, ESP32, STM32 and Arduino microcontroller\",  \n",
    "        \"Python for Machine Learning and Web Server programming\",  \n",
    "        \"HTML,CSS,JS and React.js for Website development\",  \n",
    "        \"Oracle SQL and MySQL for SQL database management\",  \n",
    "        \"MongoDB and InfluxDB for NoSQL database management\",  \n",
    "        \"Java for Android application development\",  \n",
    "        \"Microsoft Azure for on-cloud deployment\"  \n",
    "    ],  \n",
    "    \"certifications\": \"NO_DATA\",  \n",
    "    \"projects\": \"NO_DATA\",  \n",
    "    \"award\": [  \n",
    "        \"J-education Special award, TNI Japanese Presentation Contest. 16 OCT 2023\",  \n",
    "        \"1st runner up, Deep Learning project award CPE-497. 25 SEP 2023\",  \n",
    "        \"Winner of TNI-NIT Line Tracking Robot competition. 24 MAR 2023\",  \n",
    "        \"1st runner up, Tech to Innovation, Innovation to Startup. 13 JAN 2023\",  \n",
    "        \"Honorable certificate of academic excellence. 7 JUL 2023\"  \n",
    "    ],  \n",
    "    \"languages\": [  \n",
    "        \"Thai - Native\",  \n",
    "        \"English - Fluent (TOEIC 900)\",  \n",
    "        \"Japanese - Basic proficiency (JLPT N4)\"  \n",
    "    ]  \n",
    "}  '''"
   ]
  },
  {
   "cell_type": "code",
   "execution_count": 27,
   "metadata": {},
   "outputs": [],
   "source": [
    "result_json = json.loads(result_json_string)"
   ]
  },
  {
   "cell_type": "code",
   "execution_count": null,
   "metadata": {},
   "outputs": [],
   "source": [
    "result_json['name']"
   ]
  },
  {
   "cell_type": "code",
   "execution_count": null,
   "metadata": {},
   "outputs": [],
   "source": [
    "mapped_data = {  \n",
    "    \"@search.action\": \"upload\",\n",
    "    \"resumeId\": str(time.time()),  # Generate a unique ID  \n",
    "    \"Name\": result_json.get(\"name\"),  \n",
    "    \"PID\": result_json.get(\"pid\"),  \n",
    "    \"Intro\": result_json.get(\"intro\"),  \n",
    "    \"Work\": [  \n",
    "        {  \n",
    "            \"Title\": work[\"title\"],  \n",
    "            \"Company\": work[\"company\"],  \n",
    "            \"Date\": work[\"date\"],  \n",
    "            \"Duration\": work[\"duration\"],  \n",
    "            \"Description\": work[\"description\"]  \n",
    "        }  \n",
    "        for work in result_json.get(\"work\", [])  \n",
    "    ],  \n",
    "    \"Education\": [  \n",
    "        f\"{result_json['education']['degree']} at {result_json['education']['school']} ({result_json['education']['dates']})\"  \n",
    "    ],  \n",
    "    \"Skill\": result_json.get(\"skills\", []),  \n",
    "    \"Certification\": result_json.get(\"certifications\", []),  \n",
    "    \"Award\": result_json.get(\"award\", []),  \n",
    "    \"Language\": result_json.get(\"languages\", [])  \n",
    "}  \n",
    "  \n",
    "# Convert the mapped data to JSON string  \n",
    "mapped_json_string = json.dumps(mapped_data, indent=4)  \n",
    "print(mapped_json_string)  \n"
   ]
  },
  {
   "cell_type": "code",
   "execution_count": 37,
   "metadata": {},
   "outputs": [],
   "source": [
    "documents = [\n",
    "    {\n",
    "    \"@search.action\": \"upload\",\n",
    "    \"resumeId\": f\"{time.time()}\",\n",
    "    \"Name\": f\"{result_json['name']}\",\n",
    "    \"PID\": f\"{result_json['pid']}\",\n",
    "    \"Intro\": f\"{result_json['intro']}\",\n",
    "    \"Education\": f\"{result_json['education']}\",\n",
    "    \"Skill\": f\"{result_json['skills']}\",\n",
    "    \"Certification\": f\"{result_json['certifications']}\",\n",
    "    \"Award\": f\"{result_json['award']}\",\n",
    "    \"Language\": f\"{result_json['languages']}\",\n",
    "    \"Work\": f\"{', '.join(f'{list(item.keys())[0]}: {list(item.values())[0]}' for item in result_json['work'])}\"\n",
    "    }\n",
    "]"
   ]
  },
  {
   "cell_type": "code",
   "execution_count": null,
   "metadata": {},
   "outputs": [],
   "source": [
    "print(documents)"
   ]
  },
  {
   "cell_type": "code",
   "execution_count": null,
   "metadata": {},
   "outputs": [],
   "source": [
    "search_client = SearchClient(endpoint=AZURE_SEARCH_API_ENDPOINT,\n",
    "                      index_name='resume_index',\n",
    "                      credential=credential)\n",
    "try:\n",
    "    result = search_client.upload_documents(documents=mapped_data)\n",
    "    print(\"Upload of new document succeeded: {}\".format(result[0].succeeded))\n",
    "except Exception as ex:\n",
    "    print (ex.message)\n",
    "\n",
    "    index_client = SearchIndexClient(\n",
    "    endpoint=AZURE_SEARCH_API_ENDPOINT, credential=credential)"
   ]
  },
  {
   "cell_type": "code",
   "execution_count": null,
   "metadata": {},
   "outputs": [],
   "source": []
  }
 ],
 "metadata": {
  "kernelspec": {
   "display_name": "ai-resume-analysis",
   "language": "python",
   "name": "python3"
  },
  "language_info": {
   "codemirror_mode": {
    "name": "ipython",
    "version": 3
   },
   "file_extension": ".py",
   "mimetype": "text/x-python",
   "name": "python",
   "nbconvert_exporter": "python",
   "pygments_lexer": "ipython3",
   "version": "3.12.5"
  }
 },
 "nbformat": 4,
 "nbformat_minor": 2
}
