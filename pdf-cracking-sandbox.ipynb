{
 "cells": [
  {
   "cell_type": "code",
   "execution_count": null,
   "metadata": {},
   "outputs": [],
   "source": [
    "!pip install PyPDF2\n",
    "!pip install pdfminer \n",
    "!pip install pdfminer.six\n",
    "!pip install tabula-py\n",
    "!pip3 install pdf_layout_scanner"
   ]
  },
  {
   "cell_type": "code",
   "execution_count": 8,
   "metadata": {},
   "outputs": [],
   "source": [
    "from PyPDF2 import PdfReader"
   ]
  },
  {
   "cell_type": "code",
   "execution_count": null,
   "metadata": {},
   "outputs": [],
   "source": [
    "reader = PdfReader('./OneDrive_1_10-4-2024/JobThai - 1032276_ฐาณภูมิ์_ธีรสีหรัตน์ - Application.pdf')\n",
    "\n",
    "for page in reader.pages:\n",
    "    text = page.extract_text()\n",
    "    print(text)"
   ]
  },
  {
   "cell_type": "code",
   "execution_count": null,
   "metadata": {},
   "outputs": [],
   "source": [
    "import tabula\n",
    "tables = tabula.read_pdf('./OneDrive_1_10-4-2024/JobThai - 1046698_จำเริญ_ศรีบุญเรือง - Application.pdf', pages='all')\n",
    "for i, table in enumerate(tables, start=1):\n",
    "    print(f\"Table {i}:\")\n",
    "    print(table)\n",
    "    print(\"-----------------------\")"
   ]
  },
  {
   "cell_type": "code",
   "execution_count": null,
   "metadata": {},
   "outputs": [],
   "source": [
    "from pdf_layout_scanner import layout_scanner\n",
    "toc=layout_scanner.get_toc('./OneDrive_1_10-4-2024/JobThai - 1032276_ฐาณภูมิ์_ธีรสีหรัตน์ - Application.pdf')\n",
    "print(toc)\n",
    "\n",
    "pages=layout_scanner.get_pages('./OneDrive_1_10-4-2024/JobThai - 1032276_ฐาณภูมิ์_ธีรสีหรัตน์ - Application.pdf')\n",
    "print(pages)"
   ]
  },
  {
   "cell_type": "code",
   "execution_count": null,
   "metadata": {},
   "outputs": [],
   "source": [
    "! pip install azure-ai-formrecognizer"
   ]
  },
  {
   "cell_type": "code",
   "execution_count": 26,
   "metadata": {},
   "outputs": [],
   "source": [
    "from azure.core.credentials import AzureKeyCredential\n",
    "from azure.ai.formrecognizer import DocumentAnalysisClient\n",
    "import os\n",
    "from dotenv import load_dotenv\n",
    "\n",
    "load_dotenv()\n",
    "\n",
    "AZURE_DOCUMENT_INTELLIGENCE_ENDPOINT=os.environ.get(\"AZURE_DOCUMENT_INTELLIGENCE_ENDPOINT\")\n",
    "AZURE_DOCUMENT_INTELLIGENCE_KEY=os.environ.get(\"AZURE_DOCUMENT_INTELLIGENCE_KEY\")"
   ]
  },
  {
   "cell_type": "code",
   "execution_count": 27,
   "metadata": {},
   "outputs": [],
   "source": [
    "PDF_HEADERS = {\n",
    "    \"title\": \"h1\",\n",
    "    \"sectionHeading\": \"h2\"\n",
    "}\n",
    "\n",
    "endpoint = AZURE_DOCUMENT_INTELLIGENCE_ENDPOINT\n",
    "credential = AzureKeyCredential(AZURE_DOCUMENT_INTELLIGENCE_KEY)\n",
    "form_recognizer_client = DocumentAnalysisClient(endpoint, credential)\n",
    "def table_to_html(table):\n",
    "    table_html = \"<table>\"\n",
    "    rows = [sorted([cell for cell in table.cells if cell.row_index == i], key=lambda cell: cell.column_index) for i in range(table.row_count)]\n",
    "    for row_cells in rows:\n",
    "        table_html += \"<tr>\"\n",
    "        for cell in row_cells:\n",
    "            tag = \"th\" if (cell.kind == \"columnHeader\" or cell.kind == \"rowHeader\") else \"td\"\n",
    "            cell_spans = \"\"\n",
    "            if cell.column_span > 1: cell_spans += f\" colSpan={cell.column_span}\"\n",
    "            if cell.row_span > 1: cell_spans += f\" rowSpan={cell.row_span}\"\n",
    "            table_html += f\"<{tag}{cell_spans}>{html.escape(cell.content)}</{tag}>\"\n",
    "        table_html +=\"</tr>\"\n",
    "    table_html += \"</table>\"\n",
    "    return table_html\n",
    "\n",
    "def extract_pdf_content(file_path, form_recognizer_client, use_layout=False): \n",
    "    offset = 0\n",
    "    page_map = []\n",
    "    model = \"prebuilt-layout\" if use_layout else \"prebuilt-read\"\n",
    "    with open(file_path, \"rb\") as f:\n",
    "        poller = form_recognizer_client.begin_analyze_document(model, document = f)\n",
    "    form_recognizer_results = poller.result()\n",
    "    # (if using layout) mark all the positions of headers\n",
    "    roles_start = {}\n",
    "    roles_end = {}\n",
    "    for paragraph in form_recognizer_results.paragraphs:\n",
    "        if paragraph.role!=None:\n",
    "            para_start = paragraph.spans[0].offset\n",
    "            para_end = paragraph.spans[0].offset + paragraph.spans[0].length\n",
    "            roles_start[para_start] = paragraph.role\n",
    "            roles_end[para_end] = paragraph.role\n",
    "\n",
    "    for page_num, page in enumerate(form_recognizer_results.pages):\n",
    "        tables_on_page = [table for table in form_recognizer_results.tables if table.bounding_regions[0].page_number == page_num + 1]\n",
    "\n",
    "        # (if using layout) mark all positions of the table spans in the page\n",
    "        page_offset = page.spans[0].offset\n",
    "        page_length = page.spans[0].length\n",
    "        table_chars = [-1]*page_length\n",
    "        for table_id, table in enumerate(tables_on_page):\n",
    "            for span in table.spans:\n",
    "                # replace all table spans with \"table_id\" in table_chars array\n",
    "                for i in range(span.length):\n",
    "                    idx = span.offset - page_offset + i\n",
    "                    if idx >=0 and idx < page_length:\n",
    "                        table_chars[idx] = table_id\n",
    "\n",
    "        # build page text by replacing charcters in table spans with table html and replace the characters corresponding to headers with html headers, if using layout\n",
    "        page_text = \"\"\n",
    "        added_tables = set()\n",
    "        for idx, table_id in enumerate(table_chars):\n",
    "            if table_id == -1:\n",
    "                position = page_offset + idx\n",
    "                if position in roles_start.keys():\n",
    "                    role = roles_start[position]\n",
    "                    if role in PDF_HEADERS:\n",
    "                        page_text += f\"<{PDF_HEADERS[role]}>\"\n",
    "                if position in roles_end.keys():\n",
    "                    role = roles_end[position]\n",
    "                    if role in PDF_HEADERS:\n",
    "                        page_text += f\"</{PDF_HEADERS[role]}>\"\n",
    "\n",
    "                page_text += form_recognizer_results.content[page_offset + idx]\n",
    "                \n",
    "            elif not table_id in added_tables:\n",
    "                page_text += table_to_html(tables_on_page[table_id])\n",
    "                added_tables.add(table_id)\n",
    "\n",
    "        page_text += \" \"\n",
    "        page_map.append((page_num, offset, page_text))\n",
    "        offset += len(page_text)\n",
    "\n",
    "    full_text = \"\".join([page_text for _, _, page_text in page_map])\n",
    "    return full_text"
   ]
  },
  {
   "cell_type": "code",
   "execution_count": 72,
   "metadata": {},
   "outputs": [],
   "source": [
    "extracted_text = extract_pdf_content('./OneDrive_1_10-4-2024/pid_redacted/356LW841M3P0.pdf', form_recognizer_client, False)"
   ]
  },
  {
   "cell_type": "code",
   "execution_count": 73,
   "metadata": {},
   "outputs": [],
   "source": [
    "import os\n",
    "from openai import AzureOpenAI\n",
    "\n",
    "AZURE_OPENAI_PREVIEW_API_VERSION=os.environ.get(\"AZURE_OPENAI_PREVIEW_API_VERSION\")\n",
    "AZURE_OPENAI_API_KEY=os.environ.get(\"AZURE_OPENAI_API_KEY\")\n",
    "AZURE_OPENAI_ENDPOINT=os.environ.get(\"AZURE_OPENAI_ENDPOINT\")\n",
    "AZURE_OPENAI_MODEL=os.environ.get(\"AZURE_OPENAI_MODEL\")\n",
    "\n",
    "client = AzureOpenAI(\n",
    "    api_version= AZURE_OPENAI_PREVIEW_API_VERSION,\n",
    "    api_key=AZURE_OPENAI_API_KEY,\n",
    "    azure_endpoint=AZURE_OPENAI_ENDPOINT\n",
    ")"
   ]
  },
  {
   "cell_type": "code",
   "execution_count": 74,
   "metadata": {},
   "outputs": [],
   "source": [
    "completion = client.chat.completions.create(\n",
    "    model=AZURE_OPENAI_MODEL,\n",
    "    messages=[\n",
    "        {\n",
    "            \"role\": \"system\",\n",
    "            \"content\": \"You are HR department assistant your job is to write a short summary this candidate data focusing on the data that important to hiring process\"\n",
    "        },\n",
    "        {\n",
    "            \"role\": \"user\",\n",
    "            \"content\": extracted_text,\n",
    "        },\n",
    "    ],\n",
    ")"
   ]
  },
  {
   "cell_type": "code",
   "execution_count": null,
   "metadata": {},
   "outputs": [],
   "source": [
    "print(completion.to_json())"
   ]
  },
  {
   "cell_type": "markdown",
   "metadata": {},
   "source": [
    "#### censor data"
   ]
  },
  {
   "cell_type": "code",
   "execution_count": null,
   "metadata": {},
   "outputs": [],
   "source": [
    "! pip install pymupdf reportlab"
   ]
  },
  {
   "cell_type": "code",
   "execution_count": 56,
   "metadata": {},
   "outputs": [],
   "source": [
    "import fitz  # PyMuPDF\n",
    "\n",
    "# Function to redact a specific area on a PDF page based on coordinates\n",
    "def redact_area(input_pdf, output_pdf, page_num, coordinates):\n",
    "    # Open the PDF file\n",
    "    doc = fitz.open(input_pdf)\n",
    "    \n",
    "    # Load the specified page\n",
    "    page = doc.load_page(page_num)\n",
    "    \n",
    "    # Coordinates: (x0, y0, x1, y1) defining the rectangle to redact\n",
    "    for coord in coordinates:\n",
    "        x0, y0, x1, y1 = coord\n",
    "        # Create a rectangle object with these coordinates\n",
    "        rect = fitz.Rect(x0, y0, x1, y1)\n",
    "        \n",
    "        # Add the redaction annotation\n",
    "        page.add_redact_annot(rect, fill=(0, 0, 0))  # Black out the rectangle\n",
    "        \n",
    "    # Apply all redactions on the page\n",
    "    page.apply_redactions()\n",
    "\n",
    "    # Save the modified PDF\n",
    "    doc.save(output_pdf)\n",
    "    doc.close()\n",
    "\n",
    "# Example usage:\n",
    "input_pdf = \"./OneDrive_1_10-4-2024/JobThai - 1032276_ฐาณภูมิ์_ธีรสีหรัตน์ - Application.pdf\"\n",
    "output_pdf = \"output.pdf\"\n",
    "page_num = 0  # Redact the first page\n",
    "\n",
    "# Define the coordinates of the areas to redact (x0, y0, x1, y1)\n",
    "coordinates = [\n",
    "    (50, 75, 300, 190),  # First area to redact\n",
    "    (50, 210, 300, 340),  # Another area to redact\n",
    "]\n",
    "\n",
    "redact_area(input_pdf, output_pdf, page_num, coordinates)"
   ]
  },
  {
   "cell_type": "code",
   "execution_count": null,
   "metadata": {},
   "outputs": [],
   "source": [
    "import os\n",
    "import random\n",
    "import string\n",
    "\n",
    "input_folder = r'./OneDrive_1_10-4-2024'\n",
    "output_folder = r'./OneDrive_1_10-4-2024/pid_redacted'\n",
    "coordinates = [\n",
    "    (50, 75, 300, 190),  # First area to redact\n",
    "    (50, 210, 300, 340),  # Another area to redact\n",
    "]\n",
    "\n",
    "for file in os.listdir(input_folder):\n",
    "    input_path = os.path.join(input_folder, file)\n",
    "    output_path = os.path.join(output_folder, f\"{''.join(random.choices(string.ascii_uppercase + string.digits, k=12))}.pdf\")\n",
    "    try :\n",
    "        redact_area(input_pdf=input_path, output_pdf=output_path, page_num=0, coordinates=coordinates)\n",
    "    except :\n",
    "        continue\n",
    "    print(f\"{file} redacted complete\")"
   ]
  }
 ],
 "metadata": {
  "kernelspec": {
   "display_name": "openai-resume-analysis",
   "language": "python",
   "name": "python3"
  },
  "language_info": {
   "codemirror_mode": {
    "name": "ipython",
    "version": 3
   },
   "file_extension": ".py",
   "mimetype": "text/x-python",
   "name": "python",
   "nbconvert_exporter": "python",
   "pygments_lexer": "ipython3",
   "version": "3.12.5"
  }
 },
 "nbformat": 4,
 "nbformat_minor": 2
}
